{
 "cells": [
  {
   "cell_type": "code",
   "execution_count": 1,
   "metadata": {
    "collapsed": false
   },
   "outputs": [],
   "source": [
    "from examples.ImageCaption import *\n",
    "from pyspark.sql import SQLContext\n",
    "from pyspark import SparkConf,SparkContext\n",
    "from itertools import izip_longest\n",
    "from com.yahoo.ml.caffe.Conversions import *\n",
    "from com.yahoo.ml.caffe.Vocab import *\n",
    "from com.yahoo.ml.caffe.Config import *\n",
    "import json"
   ]
  },
  {
   "cell_type": "markdown",
   "metadata": {
    "collapsed": true
   },
   "source": [
    "## Create the input dataframe from cocodataset"
   ]
  },
  {
   "cell_type": "code",
   "execution_count": null,
   "metadata": {
    "collapsed": true
   },
   "outputs": [],
   "source": []
  },
  {
   "cell_type": "code",
   "execution_count": 3,
   "metadata": {
    "collapsed": false
   },
   "outputs": [],
   "source": [
    "df_embedded_input = sqlContext.read.parquet(\"/tmp/coco/parquet/df_embedded_train2014/\")"
   ]
  },
  {
   "cell_type": "code",
   "execution_count": 8,
   "metadata": {
    "collapsed": true
   },
   "outputs": [],
   "source": [
    "df_images = df_embedded_input.select(\"data.image\",\"data.height\", \"data.width\", \"id\")\n",
    "model=\"/tmp/coco/parquet/lrcn_coco.model\"\n",
    "imagenet=\"/Users/mridul/bigml/CaffeOnSpark/data/deploy.prototxt\"\n",
    "lstmnet=\"/Users/mridul/bigml/CaffeOnSpark/data/lrcn_word_to_preds.deploy.prototxt\"\n",
    "vocab=\"/Users/mridul/bigml/CaffeOnSpark/data/vocab.txt\""
   ]
  },
  {
   "cell_type": "code",
   "execution_count": 9,
   "metadata": {
    "collapsed": false
   },
   "outputs": [
    {
     "name": "stdout",
     "output_type": "stream",
     "text": [
      "+------+--------------------+\n",
      "|    id|          prediction|\n",
      "+------+--------------------+\n",
      "| 97524|A display is , in...|\n",
      "| 99876|A display is , in...|\n",
      "|107748|A display is , in...|\n",
      "|112497|A display is , in...|\n",
      "|116799|A display is , in...|\n",
      "|670231|A front bear is w...|\n",
      "|674053|A front bear is w...|\n",
      "|677107|A front bear is w...|\n",
      "|679756|A front bear is w...|\n",
      "|680179|A front bear is w...|\n",
      "|564569|A plastic is pole...|\n",
      "|565634|A plastic is pole...|\n",
      "|566438|A plastic is pole...|\n",
      "|568937|A plastic is pole...|\n",
      "|569483|A plastic is pole...|\n",
      "|217034|A room is door so...|\n",
      "|220994|A room is door so...|\n",
      "|228659|A room is door so...|\n",
      "|230015|A room is door so...|\n",
      "|232226|A room is door so...|\n",
      "+------+--------------------+\n",
      "only showing top 20 rows\n",
      "\n"
     ]
    }
   ],
   "source": [
    "df_results = get_predictions(sqlContext,df_images,model,imagenet,lstmnet,vocab)\n",
    "df_results.show()"
   ]
  },
  {
   "cell_type": "code",
   "execution_count": 13,
   "metadata": {
    "collapsed": false
   },
   "outputs": [],
   "source": [
    "df=df_embedded_input.join(df_results, df_embedded_input.id == df_results.id)"
   ]
  },
  {
   "cell_type": "code",
   "execution_count": null,
   "metadata": {
    "collapsed": false
   },
   "outputs": [],
   "source": [
    "from com.yahoo.ml.caffe.DisplayUtils import *\n",
    "show_captions(df)"
   ]
  },
  {
   "cell_type": "code",
   "execution_count": null,
   "metadata": {
    "collapsed": true
   },
   "outputs": [],
   "source": []
  }
 ],
 "metadata": {
  "kernelspec": {
   "display_name": "Python 2",
   "language": "python",
   "name": "python2"
  },
  "language_info": {
   "codemirror_mode": {
    "name": "ipython",
    "version": 2
   },
   "file_extension": ".py",
   "mimetype": "text/x-python",
   "name": "python",
   "nbconvert_exporter": "python",
   "pygments_lexer": "ipython2",
   "version": "2.7.10"
  }
 },
 "nbformat": 4,
 "nbformat_minor": 1
}
